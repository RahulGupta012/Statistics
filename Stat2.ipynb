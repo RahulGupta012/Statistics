{
 "cells": [
  {
   "cell_type": "markdown",
   "id": "be80afaa-5ba6-4229-ab17-bc4e0687a03f",
   "metadata": {},
   "source": [
    "                                    ASSIGNMENT: STATISTICS BASIC 02"
   ]
  },
  {
   "cell_type": "markdown",
   "id": "7610dd7b-2952-4bac-884b-3c482d7d163b",
   "metadata": {},
   "source": [
    "Q. What are the three measures of central tendency?"
   ]
  },
  {
   "cell_type": "markdown",
   "id": "36e8bfb2-3b3e-4d92-9c58-6630bc99c8c0",
   "metadata": {},
   "source": [
    "Mean(Avrage), Median and Mode are the three measures of central tendency."
   ]
  },
  {
   "cell_type": "markdown",
   "id": "1a91ee76-943f-4eb2-acae-75edef2377a5",
   "metadata": {},
   "source": [
    "Q. What is the difference between the mean, median, and mode? How are they used to measure the\n",
    "central tendency of a dataset?"
   ]
  },
  {
   "cell_type": "markdown",
   "id": "0dc35fa6-0a59-4ae8-a8c6-9e37abb42a2c",
   "metadata": {},
   "source": [
    "All of there mean, median and mode has their own significance in the anlysis of the data, However the mean and median seems like similar as they are showing the avarge, but they have some differences as mean is works well, if there are not outliers but in the presence of outliers mean has failed to give us the helpful conclusion, so in such cases we are using the Medain.\n",
    "and mode is bassically count the most frequent element in the variable.Further we see the opretions , like how we calclulate such measure of central tendenies."
   ]
  },
  {
   "cell_type": "markdown",
   "id": "7513ce8d-878f-449d-bc68-94792287a6b8",
   "metadata": {},
   "source": [
    "Q. Measure the three measures of central tendency for the given height data:\n",
    "\n",
    "[178,177,176,177,178.2,178,175,179,180,175,178.9,176.2,177,172.5,178,176.5]"
   ]
  },
  {
   "cell_type": "code",
   "execution_count": 3,
   "id": "3e99b407-e794-4dea-ae9e-cab8a672cedb",
   "metadata": {},
   "outputs": [],
   "source": [
    "Var= [178,177,176,177,178.2,178,175,179,180,175,178.9,176.2,177,172.5,178,176.5]"
   ]
  },
  {
   "cell_type": "code",
   "execution_count": 10,
   "id": "e5fe75e2-5980-47bd-b1c2-dde9b483e4d4",
   "metadata": {},
   "outputs": [],
   "source": [
    "import numpy as np"
   ]
  },
  {
   "cell_type": "code",
   "execution_count": 12,
   "id": "8788410b-867f-48ed-9003-db9ede0297b8",
   "metadata": {},
   "outputs": [
    {
     "data": {
      "text/plain": [
       "177.01875"
      ]
     },
     "execution_count": 12,
     "metadata": {},
     "output_type": "execute_result"
    }
   ],
   "source": [
    "np.mean(Var)"
   ]
  },
  {
   "cell_type": "code",
   "execution_count": 13,
   "id": "7732a070-a12c-4ae3-8f4f-e0a3039346f8",
   "metadata": {},
   "outputs": [
    {
     "data": {
      "text/plain": [
       "177.0"
      ]
     },
     "execution_count": 13,
     "metadata": {},
     "output_type": "execute_result"
    }
   ],
   "source": [
    "np.median(Var)"
   ]
  },
  {
   "cell_type": "code",
   "execution_count": 15,
   "id": "d369f9a0-c7fe-4fec-a750-f10b98256fb4",
   "metadata": {},
   "outputs": [],
   "source": [
    "import statistics as st"
   ]
  },
  {
   "cell_type": "code",
   "execution_count": 16,
   "id": "b7679e74-ef5f-4e81-bc30-0c9ce4c40b73",
   "metadata": {},
   "outputs": [
    {
     "data": {
      "text/plain": [
       "178"
      ]
     },
     "execution_count": 16,
     "metadata": {},
     "output_type": "execute_result"
    }
   ],
   "source": [
    "st.mode(Var)"
   ]
  },
  {
   "cell_type": "markdown",
   "id": "572aed58-0435-4916-9117-b4f024c019d7",
   "metadata": {},
   "source": [
    "Q. Find the standard deviation for the given data:\n",
    "[178,177,176,177,178.2,178,175,179,180,175,178.9,176.2,177,172.5,178,176.5]"
   ]
  },
  {
   "cell_type": "code",
   "execution_count": 17,
   "id": "1dda14b4-d986-4e70-802b-c76494b81a53",
   "metadata": {},
   "outputs": [],
   "source": [
    "var1= [178,177,176,177,178.2,178,175,179,180,175,178.9,176.2,177,172.5,178,176.5]"
   ]
  },
  {
   "cell_type": "code",
   "execution_count": 18,
   "id": "20bf13a7-3097-4e6c-b985-93fded6785a2",
   "metadata": {},
   "outputs": [
    {
     "data": {
      "text/plain": [
       "1.7885814036548633"
      ]
     },
     "execution_count": 18,
     "metadata": {},
     "output_type": "execute_result"
    }
   ],
   "source": [
    "np.std(var1)"
   ]
  },
  {
   "cell_type": "markdown",
   "id": "5ff9fe75-e2b4-47e9-a8b9-3728fa4f27a1",
   "metadata": {},
   "source": [
    "Q. What is a Venn diagram?"
   ]
  },
  {
   "cell_type": "markdown",
   "id": "83f8bf49-8d51-4d53-9e53-d29b125e3668",
   "metadata": {},
   "source": [
    "Venn diagram is a diagram which shows the relation between two gruops."
   ]
  },
  {
   "cell_type": "markdown",
   "id": "96d93da8-2b08-4898-a7c2-c6d3537deff4",
   "metadata": {},
   "source": [
    "Q. For the two given sets A = (2,3,4,5,6,7) & B = (0,2,6,8,10). Find:\n",
    "(i) A B\n",
    "(ii) A ⋃ B"
   ]
  },
  {
   "cell_type": "markdown",
   "id": "14e44feb-ce0f-4a1b-a592-e983e54afdbe",
   "metadata": {},
   "source": [
    "A intersection B= {2,6}   Common elements of both sets\n",
    "\n",
    "A ⋃ B =  {0,2,3,4,5,6,7,8,10}   combine the elements of both sets\n",
    " "
   ]
  },
  {
   "cell_type": "markdown",
   "id": "22bce9e2-f1c7-4437-978b-11fee70f8f0f",
   "metadata": {},
   "source": [
    "Q. What do you understand about skewness in data?"
   ]
  },
  {
   "cell_type": "markdown",
   "id": "919a0b90-1863-4431-856b-e16811227791",
   "metadata": {},
   "source": [
    "hen data points are not distributed symmetrically to the left and right sides of the median on a bell curve. "
   ]
  },
  {
   "cell_type": "markdown",
   "id": "54b32a2a-b71c-40d6-9aaf-9dcef9c6e30b",
   "metadata": {},
   "source": [
    "Q. If a data is right skewed then what will be the position of median with respect to mean?"
   ]
  },
  {
   "cell_type": "markdown",
   "id": "4e159f62-4d62-4b9d-855a-cf1420d6f219",
   "metadata": {},
   "source": [
    "less than the mean"
   ]
  },
  {
   "cell_type": "markdown",
   "id": "f7fdafbc-8632-46aa-acfb-7d11b8801e0f",
   "metadata": {},
   "source": [
    "Q. Explain the difference between covariance and correlation. How are these measures used in\n",
    "statistical analysis?"
   ]
  },
  {
   "cell_type": "markdown",
   "id": "2bde689f-efdc-4d4c-8ea0-04c47261f64a",
   "metadata": {},
   "source": [
    "Covariance value has not any higher or lower limit.And except  +ve or -ve there are no meaning of value in the covariance . While correlation is only till -1 to +1 and +1 being strong positive correlation,\n",
    "-1 has strong negative correlation."
   ]
  },
  {
   "cell_type": "markdown",
   "id": "a26d2e96-ede0-4f41-862c-a5ecdce8f5a4",
   "metadata": {},
   "source": [
    "Q. What is the formula for calculating the sample mean? Provide an example calculation for a\n",
    "dataset."
   ]
  },
  {
   "cell_type": "markdown",
   "id": "9aead98b-8b57-4340-9f5f-12eea56494d0",
   "metadata": {},
   "source": [
    "sample means is basically the avarage of the elements of the variable.We are denoted the mean of sample by (X var) \n",
    "\n",
    "- \n",
    "X var = n sigma i=1 x of i divided by n\n",
    "\n",
    "- Example= x= {1,3,5,6,8,9}\n",
    " \n",
    "- mean of x = sum of the numbers(elements)= 33 / count of the elements = 6\n",
    "-         x = 33/6\n",
    "-         x=5.5\n",
    "\n"
   ]
  },
  {
   "cell_type": "markdown",
   "id": "01dea940-b8be-489e-abc1-05a5ec37eaba",
   "metadata": {},
   "source": [
    "Q. How do outliers affect measures of central tendency and dispersion? Provide an example."
   ]
  },
  {
   "cell_type": "markdown",
   "id": "6e5ad587-960b-411e-8b75-05573cd9bf8b",
   "metadata": {},
   "source": [
    "Outliers means a value, which is very far from other elements of the set or variable.It makes false informtion about the data. Example= {1,3,4,5,5,6,8,9,0,3,100}\n",
    "Here value 100 is a outlier which has a far range from other elements of the variable.\n",
    "A higher outlier increase the avarage.and a lower outlier decerese the overall avarge."
   ]
  },
  {
   "cell_type": "code",
   "execution_count": null,
   "id": "c98a8778-5c84-4f71-ab33-b15ab222540f",
   "metadata": {},
   "outputs": [],
   "source": []
  }
 ],
 "metadata": {
  "kernelspec": {
   "display_name": "Python 3 (ipykernel)",
   "language": "python",
   "name": "python3"
  },
  "language_info": {
   "codemirror_mode": {
    "name": "ipython",
    "version": 3
   },
   "file_extension": ".py",
   "mimetype": "text/x-python",
   "name": "python",
   "nbconvert_exporter": "python",
   "pygments_lexer": "ipython3",
   "version": "3.10.8"
  }
 },
 "nbformat": 4,
 "nbformat_minor": 5
}
