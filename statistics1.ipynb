{
 "cells": [
  {
   "cell_type": "markdown",
   "metadata": {},
   "source": [
    "                                                  ASSIGNMENT: STATISTICS"
   ]
  },
  {
   "cell_type": "markdown",
   "metadata": {},
   "source": [
    "Q1. What is Statistics?"
   ]
  },
  {
   "cell_type": "markdown",
   "metadata": {},
   "source": [
    "Statistics is a very important part for a data scientist. \n",
    "\n",
    "dafination:\"Statistics of the is the science of collecting, orgnazing and analyzing data. \"\n",
    "\n",
    "It help in desicion making."
   ]
  },
  {
   "cell_type": "markdown",
   "metadata": {},
   "source": [
    "Q2. Define the different types of statistics and give an example of when each type might be used."
   ]
  },
  {
   "cell_type": "markdown",
   "metadata": {},
   "source": [
    "There are two types of satistics:\n",
    "\n",
    "1. Descriptive Statistics\n",
    "2. Infrential Statistics\n",
    "\n",
    "1.Descriptive statistics consists of organazing and summarizing data. By using this we get measure of tendancy and get the mean.median and mode. We can also get the measure of despertion (varition and std) by the help of Descriptive Stats. as well as it helps in different type of distribution of data. as histogram and any more graphs ploting.\n",
    "\n",
    "2.Infrential Statistics basically dealt with population and sample data. It consists of using data you have measured to form conclusion. In the infrential stats for finding the conclusion we have to use z-test and t-test for such applicaions."
   ]
  },
  {
   "cell_type": "markdown",
   "metadata": {},
   "source": [
    "Q3. What are the different types of data and how do they differ from each other? Provide an example of\n",
    "each type of data."
   ]
  },
  {
   "cell_type": "markdown",
   "metadata": {},
   "source": [
    "Data is basically the facts or pieces of information.There are two tpes of the data.\n",
    "\n",
    "1.  Quantitative Data\n",
    "     (A) Discrete  (B)Continuous\n",
    "     \n",
    "2. Qualitataive Data\n",
    "      (A)Nominal    (B)Ordinal\n",
    "\n",
    "\n",
    "1. Quantitative Data;\n",
    "\n",
    "    Qunatitative data is basically a numerical data, which represent the quanitiy of any object. It is the data, in which we are doing the mathematical opreations such as addition, substraction, multiplication, division...etc.It further divieded into two parts;\n",
    "\n",
    "    (A) Discrete DATA  (B)Continuous DATA\n",
    "\n",
    "    In descrete data we can only consider the whole number, as it is used for counting the objects ie....the number of memebers in faimily: 5\n",
    "    While  Continuous Data is used for measuring the objects so it can take any values.... even in the decimals,because the weight,hight...etc can be in decimals. Example: This ketale is 700.44 grams.\n",
    "\n",
    "2. Qualitataive Data\n",
    "    Qualitative Data is basically for descripting the quality of kind of objets. It has also divided in two types.\n",
    "    (A)Nominal    (B)Ordinal\n",
    "    In Nominal Data, the Rank of data doesnt metter as ex: geneder: male , female\n",
    "    In Ordinal Data Rank should be consider. EX constumers feedback; GOOD,BETTER,BAD\n",
    "    "
   ]
  },
  {
   "cell_type": "markdown",
   "metadata": {},
   "source": [
    "Q4. Categorise the following datasets with respect to quantitative and qualitative data types:\n",
    "\n",
    "- (i) Grading in exam: A+, A, B+, B, C+, C, D, E\n",
    "- (ii) Colour of mangoes: yellow, green, orange, red  \n",
    "- (iii) Height data of a class: [178.9, 179, 179.5, 176, 177.2, 178.3, 175.8,...]   \n",
    "- (iv) Number of mangoes exported by a farm: [500, 600, 478, 672, ...]  "
   ]
  },
  {
   "cell_type": "markdown",
   "metadata": {},
   "source": [
    "Answers:\n",
    "\n",
    "\n",
    "1. Qualitative Ordinal\n",
    "2. Qualitative Nominal DATA\n",
    "3. Quantitative Continous Data \n",
    "4. Quantitative Discerete Data"
   ]
  },
  {
   "cell_type": "markdown",
   "metadata": {},
   "source": [
    "Q5. Explain the concept of levels of measurement and give an example of a variable for each level."
   ]
  },
  {
   "cell_type": "markdown",
   "metadata": {},
   "source": [
    "There are four level of measurements:\n",
    "1. Nominal Scale Data\n",
    "2. Ordinal Scale Data\n",
    "3. Interval Scale Data\n",
    "4. Ratio Scale Data\n",
    "\n",
    "1. Nominal Scale Data\n",
    "- Qualitative / categorical\n",
    "- Order does not metter\n",
    "-Example; Genders, Colures\n",
    "\n",
    "2. Ordinal Scale Data\n",
    "- Ranking important\n",
    "- Order Metters\n",
    "- Difference can not be meausred.\n",
    "- Example; Review; BEST, GOOD, BAD\n",
    "\n",
    "3. Interval Scale Data\n",
    "- Order metters\n",
    "- Difference can be measured\n",
    "- Ratio can not be measured\n",
    "- No true zero starting point\n",
    "Exaple; Tempreture Variable\n",
    "\n",
    "4. Ratio Scale data\n",
    "- Order metters\n",
    "- Difference are measurable\n",
    "- It contains zero starting point\n",
    "- example; Students Number, marks\n",
    "\n"
   ]
  },
  {
   "cell_type": "markdown",
   "metadata": {},
   "source": [
    "Q6. Why is it important to understand the level of measurement when analyzing data? \n"
   ]
  },
  {
   "cell_type": "markdown",
   "metadata": {},
   "source": [
    "It is very imporatant as well as helpful at the time of analyzing the data specially when we do Machine learning and faeture engg. depending on the level of measurement, we can perform different descriptive statistics to get an overall summary of our\n",
    " data "
   ]
  },
  {
   "cell_type": "markdown",
   "metadata": {},
   "source": [
    "Q7. How nominal data type is different from ordinal data type."
   ]
  },
  {
   "cell_type": "markdown",
   "metadata": {},
   "source": [
    "Nominal and Ordinal data both are categoical but in the nominal data, there are no significance of ranking or oreder while in Ordinal it is important. AS male and female can be the element of variable - Gender , where's ranking does't any meaning but in the Ordinal data type, feedback variable has three eliments; best, good, bad and each has their own ranking. where's best is on top and good means avrage and bad is on the bottom."
   ]
  },
  {
   "cell_type": "markdown",
   "metadata": {},
   "source": [
    "Q8. Which type of plot can be used to display data in terms of range?"
   ]
  },
  {
   "cell_type": "markdown",
   "metadata": {},
   "source": [
    "Histogram\n"
   ]
  },
  {
   "cell_type": "markdown",
   "metadata": {},
   "source": [
    "Q10. What are some common measures of central tendency and variability used in statistics? Explain\n",
    "how each measure can be used to describe a dataset."
   ]
  },
  {
   "cell_type": "markdown",
   "metadata": {},
   "source": [
    "Mean (avrage), Medain , Mode are the some common measures of central tendency and variable used in statistics.There are many lib and tools for performing such kind of opreations.lets take a example"
   ]
  },
  {
   "attachments": {
    "65f33401-1d6c-4185-ba4a-4b1f4b2d8fa7.PNG": {
     "image/png": "[encoded data removed]"
    }
   },
   "cell_type": "markdown",
   "metadata": {},
   "source": [
    "![mean.PNG](attachment:65f33401-1d6c-4185-ba4a-4b1f4b2d8fa7.PNG)"
   ]
  },
  {
   "cell_type": "code",
   "execution_count": null,
   "metadata": {},
   "outputs": [],
   "source": []
  }
 ],
 "metadata": {
  "kernelspec": {
   "display_name": "Python 3 (ipykernel)",
   "language": "python",
   "name": "python3"
  },
  "language_info": {
   "codemirror_mode": {
    "name": "ipython",
    "version": 3
   },
   "file_extension": ".py",
   "mimetype": "text/x-python",
   "name": "python",
   "nbconvert_exporter": "python",
   "pygments_lexer": "ipython3",
   "version": "3.10.8"
  }
 },
 "nbformat": 4,
 "nbformat_minor": 4
}
